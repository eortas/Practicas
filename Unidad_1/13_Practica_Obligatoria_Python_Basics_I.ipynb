{
  "cells": [
    {
      "cell_type": "markdown",
      "metadata": {
        "id": "59zPhBxXNPxs"
      },
      "source": [
        "## PRACTICA OBLIGATORIA: PYTHON"
      ]
    },
    {
      "cell_type": "markdown",
      "metadata": {
        "id": "mv2kb1GMNPxs"
      },
      "source": [
        "* La práctica obligatoria de esta unidad consiste en dos ejercicios de programación libre a completar.   \n",
        "* Recuerda que debes subirla a tu repositorio personal antes de la sesión en vivo para que puntúe adecuadamente.  \n",
        "* Recuerda también que no es necesario que esté perfecta, sólo es necesario que se vea el esfuerzo.\n",
        "* Esta práctica se resolverá en la sesión en vivo correspondiente y la solución se publicará en el repo del curso."
      ]
    },
    {
      "cell_type": "markdown",
      "metadata": {
        "id": "Kl9JzST2NPxt"
      },
      "source": [
        "\n",
        "## PARTE I\n",
        "\n",
        "En este ejercicio debes simular un chatbot al que le haremos pedidos de pizzas.\n",
        "\n",
        "1. El chatbot tiene que saludar con un: \"Buenas tardes, bienvenido al servicio de pedido online, el precio de nuestra pizzas es de 8,95 para la familiar o de 9,90 para la mediana ¿Cuántas pizzas  familiares desea?\"\n",
        "2. El ususario tiene que introducir un número de pizzas en una variable llamada 'pizz_familiar'\n",
        "3. El chatbot debe responder: \"Estupendo, ¿cuántas pizzas medianas desea?\" y guardar el número de pizzas medianas en otra variable 'pizz_mediana'\n",
        "4. Además debe responder del chatbot: \"Estupendo, se están preparando 'pizz' pizzas familiares y 'pizz_mediana' pizzas medianas. Digame su dirección\"\n",
        "5. El ususario tiene que introducir una direccion en formato String en otra variable llamada 'direcc'\n",
        "6. El programa debe calcular el monto total\n",
        "7. Respuesta final del chatbot: \"Le mandaremos las '(número total de pizzas)' pizzas a la dirección 'direcc'. Serán <precio total a pagar en euros>. Muchas gracias por su pedido.\"\n",
        "         \n"
      ]
    },
    {
      "cell_type": "code",
      "execution_count": 27,
      "metadata": {
        "id": "qkKibyt-NPxt"
      },
      "outputs": [
        {
          "name": "stdout",
          "output_type": "stream",
          "text": [
            "Buenas tardes, bienvenido al servicio de pedido online, el precio de nuestra pizzas es de 8,95 para la familiar o de 9,90 para la mediana ¿Cuántas pizzas familiares desea?\n",
            "Estupendo, se está preparando 0 pizza familiar y 1 pizza mediana\n",
            "Le mandaremos la 1 pizza a la dirección kakaka . Serán 9.9 euros. Muchas gracias por su pedido\n"
          ]
        }
      ],
      "source": [
        "mensaje1 = \"Buenas tardes, bienvenido al servicio de pedido online, el precio de nuestra pizzas es de 8,95 para la familiar o de 9,90 para la mediana ¿Cuántas pizzas familiares desea?\"\n",
        "print (mensaje1)\n",
        "pizz_familiar = int(input(\"¿Cuántas pizzas  familiares desea?\"))\n",
        "pizz_mediana = int(input(\"Estupendo, ¿cuántas pizzas medianas desea?\"))\n",
        "lista1 = [\"Estupendo, se están preparando\", pizz_familiar, \"pizzas familiares y \",pizz_mediana, \"pizzas medianas.\"]\n",
        "if pizz_familiar == 1 or pizz_mediana==1 and pizz_mediana + pizz_familiar==1:\n",
        "    del lista1[0]\n",
        "    lista1.insert(0, \"Estupendo, se está preparando\")\n",
        "    del lista1[2]\n",
        "    lista1.insert(2, \"pizza familiar y\")\n",
        "    del lista1[4] \n",
        "    lista1.insert(4, \"pizza mediana\")\n",
        "print(\" \".join(map(str, lista1)))\n",
        "direcc = input(\"Dígame su dirección\",)\n",
        "total = pizz_familiar*8.95 + pizz_mediana*9.90\n",
        "lista2 = [\"Le mandaremos las\", pizz_familiar + pizz_mediana, \"pizzas a la direccion\", direcc, \". Serán\", total, \"euros. Muchas gracias por su pedido\"]\n",
        "if pizz_familiar + pizz_mediana == 1:\n",
        "    del lista2[0]\n",
        "    lista2.insert(0, \"Le mandaremos la\")\n",
        "    del lista2[2]\n",
        "    lista2.insert(2, \"pizza a la dirección\")\n",
        "print(\" \".join(map(str, lista2)))\n",
        "    "
      ]
    },
    {
      "cell_type": "markdown",
      "metadata": {
        "id": "f0oqoGDGNPxt"
      },
      "source": [
        "\n",
        "## Parte II\n",
        "\n",
        "Crea un programa que realice las siguientes acciones:\n",
        "\n",
        "1. Solicite al usuario que introduzca 3 números enteros separados por comas (por ejemplo: 1,2,3).\n",
        "2. Convierta esa entrada en una lista de números enteros.\n",
        "3. Utilizando funciones built-in, determine el número máximo, el número mínimo y la suma total de los números introducidos.\n",
        "4. Determine la verdad o falsedad de la siguiente afirmación: \"El número máximo menos el número mínimo es igual a la suma total dividida por 5\".\n",
        "5. Muestre los resultados utilizando print."
      ]
    },
    {
      "cell_type": "code",
      "execution_count": 67,
      "metadata": {
        "id": "rAlpWiQ9NPxt"
      },
      "outputs": [
        {
          "name": "stdout",
          "output_type": "stream",
          "text": [
            "El número máximo introducido es 50000 \n",
            "El número mínimo es 12 \n",
            "y la suma total de los números introducidos es 51012\n"
          ]
        }
      ],
      "source": [
        "numeros = input(\"Por favor, introduce 3 números enteros separados por comas y sin espacios: \")\n",
        "lista = [int(n) for n in numeros.split(\",\")]\n",
        "\n",
        "if len(lista)!=3:\n",
        "    print (\"No has ingresado 3 números separados por comas y sin espacio, vuelve a intentarlo por favor\")\n",
        "    input(\"Por favor, introduce 3 números enteros separados por comas y sin espacios\")\n",
        "print(\"El número máximo introducido es\", max(lista),\n",
        "      \"\\nEl número mínimo es\", min(lista),\n",
        "      \"\\ny la suma total de los números introducidos es\", sum(lista)) \n",
        "\n",
        "# He probado un rato a que compruebe que se ingresan números y haga que se repita el imput en caso de que no\n",
        "# sean números, pero desisto.\n"
      ]
    }
  ],
  "metadata": {
    "colab": {
      "provenance": []
    },
    "kernelspec": {
      "display_name": "Python 3",
      "language": "python",
      "name": "python3"
    },
    "language_info": {
      "codemirror_mode": {
        "name": "ipython",
        "version": 3
      },
      "file_extension": ".py",
      "mimetype": "text/x-python",
      "name": "python",
      "nbconvert_exporter": "python",
      "pygments_lexer": "ipython3",
      "version": "3.11.9"
    },
    "orig_nbformat": 4
  },
  "nbformat": 4,
  "nbformat_minor": 0
}
